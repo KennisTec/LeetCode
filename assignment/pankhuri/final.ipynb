{
 "cells": [
  {
   "cell_type": "markdown",
   "metadata": {},
   "source": [
    "# Final Exam\n",
    "## Filename: final.ipynb\n",
    "## Jagadeesh Vasudevamurthy\n",
    "## DO NOT FORWARD OR COPY"
   ]
  },
  {
   "cell_type": "code",
   "execution_count": 1,
   "metadata": {},
   "outputs": [
    {
     "name": "stdout",
     "output_type": "stream",
     "text": [
      "3.12.3 | packaged by conda-forge | (main, Apr 15 2024, 18:35:20) [Clang 16.0.6 ]\n"
     ]
    }
   ],
   "source": [
    "import sys\n",
    "import os\n",
    "from time import process_time \n",
    "print(sys.version)"
   ]
  },
  {
   "cell_type": "code",
   "execution_count": 5,
   "metadata": {},
   "outputs": [],
   "source": [
    "############################################################\n",
    "# exam.py\n",
    "# Author: Jagadeesh Vasudevamurthy\n",
    "# Copyright: Jagadeesh Vasudevamurthy 2023\n",
    "###########################################################\n",
    "\n",
    "############################################################\n",
    "# All imports\n",
    "###########################################################\n",
    "from typing import List\n",
    "from time import process_time\n",
    "\n",
    "        \n",
    "class exam:\n",
    "    def __init__(\n",
    "        self,\n",
    "        grid: \"List[List[str]\",\n",
    "        n: \"int\",\n",
    "        islands: \"list of list of int\",\n",
    "        work: \"List of size 1\",\n",
    "        show: \"boolean\",\n",
    "    ):\n",
    "        self._grid = grid\n",
    "        self._n = n  # 4 or 8 Direction to explore\n",
    "        self._islands = islands  # Must Fill\n",
    "        self._work = work  # Must Fill\n",
    "        self._show = show\n",
    "\n",
    "        # Tou can have any number of data structures here\n",
    "        \n",
    "\n",
    "        # MUST WRITE THIS ROUTINE\n",
    "        self._alg()\n",
    "        \n",
    "\n",
    "    def _increment_work(self):\n",
    "        self._work[0] = self._work[0] + 1\n",
    "\n",
    "    ############################################################\n",
    "    # WRITE CODE BELOW\n",
    "    ###########################################################\n",
    "    def _alg(self):\n",
    "        print(\"Remove this line and write code\")\n"
   ]
  },
  {
   "cell_type": "code",
   "execution_count": 2,
   "metadata": {},
   "outputs": [],
   "source": [
    "############################################################\n",
    "# examTest.py\n",
    "# Author: Jagadeesh Vasudevamurthy\n",
    "# Copyright: Jagadeesh Vasudevamurthy 2023\n",
    "###########################################################\n",
    "\n",
    "############################################################\n",
    "#              NOTHING CAN BE CHANGED IN THIS FILE\n",
    "###########################################################\n",
    "\n",
    "############################################################\n",
    "# All imports\n",
    "###########################################################\n",
    "#from exam import *\n",
    "#from typing import List\n",
    "#from time import process_time\n",
    "\n",
    "\n",
    "class examTest:\n",
    "    def __init__(self):\n",
    "        self._show = True\n",
    "        self._num = 0\n",
    "        self._mark = 0\n",
    "        self._test()\n",
    "\n",
    "    def _print_matrix(self, grid: \"List[List[str]\"):\n",
    "        if self._show:\n",
    "            for arow in grid:\n",
    "                for e in arow:\n",
    "                    print(e, sep=\"\", end=\"\")\n",
    "                print()\n",
    "            print()\n",
    "\n",
    "    def _test1(self, grid: \"List[List[str]\", n: int, eans: \"int\"):\n",
    "        self._num = self._num + 1\n",
    "        print(\n",
    "            \"______________________Problem\",\n",
    "            self._num,\n",
    "            \"---------------------------------\",\n",
    "        )\n",
    "        print(\"Input grid is shown below. You must find all islands for n = \", n)\n",
    "        self._print_matrix(grid)\n",
    "        work = [0]\n",
    "        islands = []\n",
    "        # return list of listq\n",
    "        p = exam(grid, n, islands, work, self._show)\n",
    "        num = len(islands)\n",
    "        if num:\n",
    "            if work[0] == 0:\n",
    "                print(\"How did you solve the problem witj no work?\")\n",
    "                assert False\n",
    "            else:\n",
    "                print(\"WORK = \", work[0])\n",
    "\n",
    "    def _marks(self, n:'int'):\n",
    "      self._mark += n\n",
    "      print(\"At this point You got\", self._mark, \"marks\")\n",
    "\n",
    "    def _test(self):\n",
    "        self._show = True\n",
    "        \n",
    "        grid = [\n",
    "            [\"1\", \"1\", \"0\"],\n",
    "            [\"0\", \"1\", \"0\"],\n",
    "            [\"1\", \"0\", \"0\"]         \n",
    "        ]\n",
    "        n = 4\n",
    "        e = 5 #wrong\n",
    "        self._test1(grid, n, e)\n",
    "\n",
    "        n = 8\n",
    "        e = 4 #WRONG\n",
    "        self._test1(grid, n, e)\n",
    "        self._marks(10)\n",
    "        print(\"Let us see how many tests passes after I give you hidden tests\")\n",
    "\n",
    "\n",
    "############################################################\n",
    "# main\n",
    "# YOU CANNOT CHANGE ANYTHING BELOW\n",
    "###########################################################\n",
    "def main():\n",
    "    print(\"Testing examTest Starts\")\n",
    "    s = examTest()\n",
    "    print(\"Testing examTest ENDS\")\n"
   ]
  },
  {
   "cell_type": "code",
   "execution_count": 3,
   "metadata": {},
   "outputs": [
    {
     "name": "stdout",
     "output_type": "stream",
     "text": [
      "Testing examTest Starts\n",
      "______________________Problem 1 ---------------------------------\n",
      "Input grid is shown below. You must find all islands for n =  4\n",
      "110\n",
      "010\n",
      "100\n",
      "\n"
     ]
    },
    {
     "ename": "NameError",
     "evalue": "name 'exam' is not defined",
     "output_type": "error",
     "traceback": [
      "\u001b[0;31m---------------------------------------------------------------------------\u001b[0m",
      "\u001b[0;31mNameError\u001b[0m                                 Traceback (most recent call last)",
      "Cell \u001b[0;32mIn[3], line 2\u001b[0m\n\u001b[1;32m      1\u001b[0m \u001b[38;5;28;01mif\u001b[39;00m (\u001b[38;5;18m__name__\u001b[39m    \u001b[38;5;241m==\u001b[39m \u001b[38;5;124m'\u001b[39m\u001b[38;5;124m__main__\u001b[39m\u001b[38;5;124m'\u001b[39m):\n\u001b[0;32m----> 2\u001b[0m     \u001b[43mmain\u001b[49m\u001b[43m(\u001b[49m\u001b[43m)\u001b[49m\n",
      "Cell \u001b[0;32mIn[2], line 84\u001b[0m, in \u001b[0;36mmain\u001b[0;34m()\u001b[0m\n\u001b[1;32m     82\u001b[0m \u001b[38;5;28;01mdef\u001b[39;00m \u001b[38;5;21mmain\u001b[39m():\n\u001b[1;32m     83\u001b[0m     \u001b[38;5;28mprint\u001b[39m(\u001b[38;5;124m\"\u001b[39m\u001b[38;5;124mTesting examTest Starts\u001b[39m\u001b[38;5;124m\"\u001b[39m)\n\u001b[0;32m---> 84\u001b[0m     s \u001b[38;5;241m=\u001b[39m \u001b[43mexamTest\u001b[49m\u001b[43m(\u001b[49m\u001b[43m)\u001b[49m\n\u001b[1;32m     85\u001b[0m     \u001b[38;5;28mprint\u001b[39m(\u001b[38;5;124m\"\u001b[39m\u001b[38;5;124mTesting examTest ENDS\u001b[39m\u001b[38;5;124m\"\u001b[39m)\n",
      "Cell \u001b[0;32mIn[2], line 24\u001b[0m, in \u001b[0;36mexamTest.__init__\u001b[0;34m(self)\u001b[0m\n\u001b[1;32m     22\u001b[0m \u001b[38;5;28mself\u001b[39m\u001b[38;5;241m.\u001b[39m_num \u001b[38;5;241m=\u001b[39m \u001b[38;5;241m0\u001b[39m\n\u001b[1;32m     23\u001b[0m \u001b[38;5;28mself\u001b[39m\u001b[38;5;241m.\u001b[39m_mark \u001b[38;5;241m=\u001b[39m \u001b[38;5;241m0\u001b[39m\n\u001b[0;32m---> 24\u001b[0m \u001b[38;5;28;43mself\u001b[39;49m\u001b[38;5;241;43m.\u001b[39;49m\u001b[43m_test\u001b[49m\u001b[43m(\u001b[49m\u001b[43m)\u001b[49m\n",
      "Cell \u001b[0;32mIn[2], line 69\u001b[0m, in \u001b[0;36mexamTest._test\u001b[0;34m(self)\u001b[0m\n\u001b[1;32m     67\u001b[0m n \u001b[38;5;241m=\u001b[39m \u001b[38;5;241m4\u001b[39m\n\u001b[1;32m     68\u001b[0m e \u001b[38;5;241m=\u001b[39m \u001b[38;5;241m5\u001b[39m \u001b[38;5;66;03m#wrong\u001b[39;00m\n\u001b[0;32m---> 69\u001b[0m \u001b[38;5;28;43mself\u001b[39;49m\u001b[38;5;241;43m.\u001b[39;49m\u001b[43m_test1\u001b[49m\u001b[43m(\u001b[49m\u001b[43mgrid\u001b[49m\u001b[43m,\u001b[49m\u001b[43m \u001b[49m\u001b[43mn\u001b[49m\u001b[43m,\u001b[49m\u001b[43m \u001b[49m\u001b[43me\u001b[49m\u001b[43m)\u001b[49m\n\u001b[1;32m     71\u001b[0m n \u001b[38;5;241m=\u001b[39m \u001b[38;5;241m8\u001b[39m\n\u001b[1;32m     72\u001b[0m e \u001b[38;5;241m=\u001b[39m \u001b[38;5;241m4\u001b[39m \u001b[38;5;66;03m#WRONG\u001b[39;00m\n",
      "Cell \u001b[0;32mIn[2], line 46\u001b[0m, in \u001b[0;36mexamTest._test1\u001b[0;34m(self, grid, n, eans)\u001b[0m\n\u001b[1;32m     44\u001b[0m islands \u001b[38;5;241m=\u001b[39m []\n\u001b[1;32m     45\u001b[0m \u001b[38;5;66;03m# return list of listq\u001b[39;00m\n\u001b[0;32m---> 46\u001b[0m p \u001b[38;5;241m=\u001b[39m \u001b[43mexam\u001b[49m(grid, n, islands, work, \u001b[38;5;28mself\u001b[39m\u001b[38;5;241m.\u001b[39m_show)\n\u001b[1;32m     47\u001b[0m num \u001b[38;5;241m=\u001b[39m \u001b[38;5;28mlen\u001b[39m(islands)\n\u001b[1;32m     48\u001b[0m \u001b[38;5;28;01mif\u001b[39;00m num:\n",
      "\u001b[0;31mNameError\u001b[0m: name 'exam' is not defined"
     ]
    }
   ],
   "source": [
    "if (__name__    == '__main__'):\n",
    "    main()"
   ]
  },
  {
   "cell_type": "code",
   "execution_count": null,
   "metadata": {},
   "outputs": [],
   "source": []
  }
 ],
 "metadata": {
  "kernelspec": {
   "display_name": "Python 3 (ipykernel)",
   "language": "python",
   "name": "python3"
  },
  "language_info": {
   "codemirror_mode": {
    "name": "ipython",
    "version": 3
   },
   "file_extension": ".py",
   "mimetype": "text/x-python",
   "name": "python",
   "nbconvert_exporter": "python",
   "pygments_lexer": "ipython3",
   "version": "3.12.3"
  }
 },
 "nbformat": 4,
 "nbformat_minor": 4
}
